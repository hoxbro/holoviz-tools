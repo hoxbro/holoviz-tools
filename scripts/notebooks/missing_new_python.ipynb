{
 "cells": [
  {
   "cell_type": "code",
   "execution_count": null,
   "id": "b338ba84-63b8-4363-98e0-c45845b16c8c",
   "metadata": {},
   "outputs": [],
   "source": [
    "import uuid\n",
    "from concurrent.futures import ThreadPoolExecutor\n",
    "from functools import cache\n",
    "from subprocess import run\n",
    "\n",
    "from tomli import load\n",
    "from tqdm import tqdm\n",
    "\n",
    "\n",
    "def get_deps(package):\n",
    "    pixi_toml = f\"/home/shh/projects/holoviz/repos/{package}/pixi.toml\"\n",
    "\n",
    "    with open(pixi_toml, \"rb\") as f:\n",
    "        data = load(f)\n",
    "\n",
    "    ignore_features = [\"test-gpu\", \"build\", \"lint\", \"lite\", \"test-ui\", \"type\"]\n",
    "    features = [\n",
    "        list(v.get(\"dependencies\", []))\n",
    "        for k, v in data[\"feature\"].items()\n",
    "        if k not in ignore_features\n",
    "    ]\n",
    "    deps = {*data[\"dependencies\"], *sum(features, [])}  # noqa: RUF017\n",
    "    return deps\n",
    "\n",
    "\n",
    "@cache\n",
    "def func(*deps):\n",
    "    cmd = [\n",
    "        \"mamba\",\n",
    "        \"create\",\n",
    "        \"-n\",\n",
    "        uuid.uuid4().hex,\n",
    "        \"python=3.13\",\n",
    "        *deps,\n",
    "        \"-c\",\n",
    "        \"conda-forge/label/python_rc\",\n",
    "        \"-c\",\n",
    "        \"pyviz/label/dev\",\n",
    "        \"--dry-run\",\n",
    "    ]\n",
    "    if deps:\n",
    "        cmd.append(\"--offline\")\n",
    "    output = run(cmd, capture_output=True)\n",
    "    return output\n",
    "\n",
    "\n",
    "def check(deps):\n",
    "    with ThreadPoolExecutor() as ex:\n",
    "        futures = list(tqdm(ex.map(func, deps), total=len(deps)))\n",
    "    for dep, future in zip(deps, futures):\n",
    "        if future.returncode:\n",
    "            print(dep, \"failed\", flush=True)\n",
    "        else:\n",
    "            print(dep, \"success\", flush=True)\n",
    "\n",
    "\n",
    "print_output = lambda dep: print(func(dep).stdout.decode())\n",
    "no_check = func()"
   ]
  },
  {
   "cell_type": "code",
   "execution_count": null,
   "id": "aa9e6659-4477-462e-a08a-3c75763b9577",
   "metadata": {},
   "outputs": [],
   "source": [
    "check(get_deps(\"panel\"))"
   ]
  },
  {
   "cell_type": "code",
   "execution_count": null,
   "id": "6c50bff1-6cf4-48cf-88e2-1bb0045607d6",
   "metadata": {},
   "outputs": [],
   "source": [
    "deps = [\n",
    "    \"fastparquet\",\n",
    "    \"numba\",\n",
    "    \"pyarrow\",\n",
    "    \"vtk\",\n",
    "    \"scikit-image\",\n",
    "    \"python-duckdb\",\n",
    "    \"pywin32\",  # jupyter ecosystem\n",
    "]\n",
    "\n",
    "check(deps)"
   ]
  }
 ],
 "metadata": {
  "language_info": {
   "name": "python",
   "pygments_lexer": "ipython3"
  }
 },
 "nbformat": 4,
 "nbformat_minor": 5
}
